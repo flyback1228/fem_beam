{
 "cells": [
  {
   "cell_type": "code",
   "execution_count": 24,
   "metadata": {},
   "outputs": [
    {
     "name": "stdout",
     "output_type": "stream",
     "text": [
      "[0. 3. 0. 5. 0. 0.]\n"
     ]
    }
   ],
   "source": [
    "import numpy as np\n",
    "a = np.array([[12,3,4],[5,7,9]])\n",
    "b = a.reshape((-1,))\n",
    "c=[1,3]\n",
    "d=np.zeros((6,))\n",
    "d[c]=b[c]\n",
    "print(d)"
   ]
  },
  {
   "cell_type": "code",
   "execution_count": 23,
   "metadata": {},
   "outputs": [
    {
     "name": "stdout",
     "output_type": "stream",
     "text": [
      "float32\n",
      "<class 'numpy.ndarray'>\n",
      "[1.2 3.4]\n"
     ]
    }
   ],
   "source": [
    "a=np.array([1.2,3.4],dtype=np.float64)\n",
    "b=np.zeros((2,),dtype=np.float32)\n",
    "\n",
    "b[:]=a[:]\n",
    "print(b.dtype)\n",
    "print(type(b))\n",
    "print(b)"
   ]
  },
  {
   "cell_type": "code",
   "execution_count": 19,
   "metadata": {},
   "outputs": [
    {
     "name": "stdout",
     "output_type": "stream",
     "text": [
      "[ 1  2  3  4  5  6  7  8  9 10]\n",
      "[ 1  4  7 10]\n"
     ]
    }
   ],
   "source": [
    "a = np.arange(1,11,1)\n",
    "print(a)\n",
    "print(a[0::3])"
   ]
  },
  {
   "cell_type": "code",
   "execution_count": 3,
   "metadata": {},
   "outputs": [
    {
     "name": "stdout",
     "output_type": "stream",
     "text": [
      "<class 'cupy.ndarray'>\n"
     ]
    }
   ],
   "source": [
    "import cupy as cp\n",
    "import numpy as np\n",
    "x = cp.arange(6).reshape(2, 3).astype('f')\n",
    "x.sum(axis=1)\n",
    "\n",
    "a = np.array([1,3,4])\n",
    "b = cp.array(a)\n",
    "print(type(b))"
   ]
  },
  {
   "cell_type": "code",
   "execution_count": 4,
   "metadata": {},
   "outputs": [
    {
     "name": "stdout",
     "output_type": "stream",
     "text": [
      "[ 0.          4.24264069  8.48528137 13.45362405]\n",
      "[[ 0.          2.12132034  4.24264069  6.72681202]\n",
      " [ 0.          3.67423461  7.34846923 11.6511802 ]]\n"
     ]
    }
   ],
   "source": [
    "a=np.array([[1,2,3],[4,5,6],[7,8,9],[10,12,13]])\n",
    "b=a[0:,0:2]-a[0,0:2]\n",
    "b = np.linalg.norm(b,axis=1)\n",
    "print(b)\n",
    "phi0=np.pi/3\n",
    "c=np.array([b*np.cos(phi0),b*np.sin(phi0)])\n",
    "print(c)\n"
   ]
  },
  {
   "cell_type": "code",
   "execution_count": 6,
   "metadata": {},
   "outputs": [
    {
     "name": "stdout",
     "output_type": "stream",
     "text": [
      "[0 0 0 0]\n"
     ]
    }
   ],
   "source": [
    "a=np.array([[1,3],[4,5]])\n",
    "p = np.reshape(a,(-1,))\n",
    "a[0,0]=2\n",
    "a.fill(0)\n",
    "print(p)\n"
   ]
  }
 ],
 "metadata": {
  "interpreter": {
   "hash": "31f2aee4e71d21fbe5cf8b01ff0e069b9275f58929596ceb00d14d90e3e16cd6"
  },
  "kernelspec": {
   "display_name": "Python 3.8.0 64-bit",
   "language": "python",
   "name": "python3"
  },
  "language_info": {
   "codemirror_mode": {
    "name": "ipython",
    "version": 3
   },
   "file_extension": ".py",
   "mimetype": "text/x-python",
   "name": "python",
   "nbconvert_exporter": "python",
   "pygments_lexer": "ipython3",
   "version": "3.8.0"
  },
  "orig_nbformat": 4
 },
 "nbformat": 4,
 "nbformat_minor": 2
}
