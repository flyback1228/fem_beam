{
 "cells": [
  {
   "cell_type": "code",
   "execution_count": 3,
   "metadata": {},
   "outputs": [
    {
     "name": "stdout",
     "output_type": "stream",
     "text": [
      "POINT (1 1)\n",
      "[array([<POINT (0.5 1)>, <POINT (0.5 0)>, <POINT (0 0)>], dtype=object), array([<POINT (3 3)>, <POINT (0.5 -1)>, <POINT (-1 -1)>], dtype=object)]\n",
      "0.5\n"
     ]
    }
   ],
   "source": [
    "from shapely.ops import nearest_points\n",
    "from shapely import Point,Polygon\n",
    "from shapely import MultiPolygon\n",
    "\n",
    "b= Point(1.0,1.0)\n",
    "print(b)\n",
    "\n",
    "pts = [Point(3,3),Point(0.5,-1),Point(-1,-1)]\n",
    "triangle = Polygon([(0, 0), (1, 0), (0.5, 1), (0, 0)])\n",
    "triangle2 = Polygon([(1, 4), (2, 4), (1.5, 5), (1, 4)])\n",
    "# t = MultiPolygon([triangle,triangle2])\n",
    "a = list(nearest_points(triangle, pts))\n",
    "print(a)\n",
    "print(a[0][0].x)"
   ]
  },
  {
   "cell_type": "code",
   "execution_count": 38,
   "metadata": {},
   "outputs": [
    {
     "name": "stdout",
     "output_type": "stream",
     "text": [
      "[10.  9.  8.  7.  6.  5.  4.  3.  2.  1.]\n",
      "[10.  8.  6.  4.  2.]\n"
     ]
    }
   ],
   "source": [
    "import numpy as np\n",
    "a = np.linspace(10,1,10)\n",
    "print(a)\n",
    "b=a[0::2]\n",
    "print(b)"
   ]
  },
  {
   "cell_type": "code",
   "execution_count": 40,
   "metadata": {},
   "outputs": [
    {
     "name": "stdout",
     "output_type": "stream",
     "text": [
      "32\n",
      "22\n",
      "11\n",
      "0\n"
     ]
    }
   ],
   "source": [
    "class Node:\n",
    "    def __init__(self,i,parent=None):\n",
    "        self.i=i\n",
    "        self.parent = parent\n",
    "        self.children=[]\n",
    "        if parent is not None:\n",
    "            parent.children.append(self)\n",
    "            \n",
    "p0 = Node(0)\n",
    "\n",
    "p11 = Node(11,p0)\n",
    "p12 = Node(12,p0)\n",
    "\n",
    "p21 = Node(21,p11)\n",
    "p22 = Node(22,p11)\n",
    "\n",
    "p32 = Node(32,p22)\n",
    "\n",
    "p = p32\n",
    "while p is not None:\n",
    "    print(p.i)\n",
    "    p = p.parent\n",
    "    \n",
    "        "
   ]
  },
  {
   "cell_type": "code",
   "execution_count": 26,
   "metadata": {},
   "outputs": [
    {
     "data": {
      "text/plain": [
       "DM([5, 25, 61])"
      ]
     },
     "execution_count": 26,
     "metadata": {},
     "output_type": "execute_result"
    }
   ],
   "source": [
    "import casadi as ca\n",
    "a = ca.DM([[1,2],[3,4],[5,6]])\n",
    "ca.sum2(a*a)\n"
   ]
  },
  {
   "cell_type": "code",
   "execution_count": 35,
   "metadata": {},
   "outputs": [
    {
     "name": "stdout",
     "output_type": "stream",
     "text": [
      "[1. 0. 0. 1. 0. 0. 1. 0. 0. 1. 0. 0.]\n"
     ]
    },
    {
     "data": {
      "text/plain": [
       "array([1., 0., 0., 1., 0., 0., 1., 0., 0., 1., 0., 0., 0., 0., 0., 0., 0.,\n",
       "       0., 0., 0., 0., 0.])"
      ]
     },
     "execution_count": 35,
     "metadata": {},
     "output_type": "execute_result"
    }
   ],
   "source": [
    "a = np.zeros([12,])\n",
    "idx = np.arange(0,len(a),3)\n",
    "a[idx]=1\n",
    "print(a)\n",
    "np.append(a,np.zeros(10,))"
   ]
  }
 ],
 "metadata": {
  "interpreter": {
   "hash": "31f2aee4e71d21fbe5cf8b01ff0e069b9275f58929596ceb00d14d90e3e16cd6"
  },
  "kernelspec": {
   "display_name": "Python 3.8.0 64-bit",
   "language": "python",
   "name": "python3"
  },
  "language_info": {
   "codemirror_mode": {
    "name": "ipython",
    "version": 3
   },
   "file_extension": ".py",
   "mimetype": "text/x-python",
   "name": "python",
   "nbconvert_exporter": "python",
   "pygments_lexer": "ipython3",
   "version": "3.8.0"
  },
  "orig_nbformat": 4
 },
 "nbformat": 4,
 "nbformat_minor": 2
}
