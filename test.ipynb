{
 "cells": [
  {
   "cell_type": "code",
   "execution_count": 29,
   "metadata": {},
   "outputs": [
    {
     "name": "stdout",
     "output_type": "stream",
     "text": [
      "[[ 0  1  2  3]\n",
      " [ 4  5  6  7]\n",
      " [ 8  9 10 11]]\n",
      "[[0 1 2 3]]\n",
      "[[ 0  1  2  3]\n",
      " [ 4  5  6  7]\n",
      " [ 8  9 10 11]]\n",
      "[[ 0  1]\n",
      " [ 2  3]\n",
      " [ 4  5]\n",
      " [ 6  7]\n",
      " [ 8  9]\n",
      " [10 11]]\n"
     ]
    }
   ],
   "source": [
    "import numpy as np\n",
    "\n",
    "a = np.matrix(np.arange(12).reshape(3, 4))\n",
    "print(a)\n",
    "# [[ 0  1  2  3]\n",
    "#  [ 4  5  6  7]\n",
    "#  [ 8  9 10 11]]\n",
    "\n",
    "a_del = np.delete(a, [1,2], 0)\n",
    "print(a_del)\n",
    "# [[ 0  1  2  3]\n",
    "#  [ 8  9 10 11]]\n",
    "\n",
    "print(a)\n",
    "print(np.reshape(a,(-1,2)))"
   ]
  },
  {
   "cell_type": "code",
   "execution_count": 25,
   "metadata": {},
   "outputs": [
    {
     "name": "stdout",
     "output_type": "stream",
     "text": [
      "[[ 0  1]\n",
      " [ 2  3]\n",
      " [ 4  5]\n",
      " [ 6  7]\n",
      " [ 8  9]\n",
      " [10 11]]\n",
      "[[  0   1 100   2   3 101   4   5 102   6   7 103   8   9 104  10  11 105]]\n"
     ]
    },
    {
     "data": {
      "text/plain": [
       "matrix([[  0,   0],\n",
       "        [  1,   0],\n",
       "        [100,   0],\n",
       "        [  2,   0],\n",
       "        [  3,   0],\n",
       "        [101,   0],\n",
       "        [  4,   0],\n",
       "        [  5,   0],\n",
       "        [102,   0],\n",
       "        [  6,   0],\n",
       "        [  7,   0],\n",
       "        [103,   0],\n",
       "        [  8,   0],\n",
       "        [  9,   0],\n",
       "        [104,   0],\n",
       "        [ 10,   0],\n",
       "        [ 11,   0],\n",
       "        [105,   0]])"
      ]
     },
     "execution_count": 25,
     "metadata": {},
     "output_type": "execute_result"
    }
   ],
   "source": [
    "a = np.matrix(np.arange(12).reshape(6,2))\n",
    "print(a)\n",
    "b = np.insert(a,[2],np.arange(100,106).reshape(6,1),axis=1)\n",
    "b = b.reshape((18,))\n",
    "print(b)\n",
    "np.insert(b,1,np.zeros(b.shape[0]*b.shape[1],),axis=0).transpose()"
   ]
  },
  {
   "cell_type": "code",
   "execution_count": 35,
   "metadata": {},
   "outputs": [
    {
     "name": "stdout",
     "output_type": "stream",
     "text": [
      "[1. 0. 0. 1. 0. 0. 1. 0. 0. 1. 0. 0.]\n"
     ]
    },
    {
     "data": {
      "text/plain": [
       "array([1., 0., 0., 1., 0., 0., 1., 0., 0., 1., 0., 0., 0., 0., 0., 0., 0.,\n",
       "       0., 0., 0., 0., 0.])"
      ]
     },
     "execution_count": 35,
     "metadata": {},
     "output_type": "execute_result"
    }
   ],
   "source": [
    "a = np.zeros([12,])\n",
    "idx = np.arange(0,len(a),3)\n",
    "a[idx]=1\n",
    "print(a)\n",
    "np.append(a,np.zeros(10,))"
   ]
  }
 ],
 "metadata": {
  "interpreter": {
   "hash": "31f2aee4e71d21fbe5cf8b01ff0e069b9275f58929596ceb00d14d90e3e16cd6"
  },
  "kernelspec": {
   "display_name": "Python 3.8.0 64-bit",
   "language": "python",
   "name": "python3"
  },
  "language_info": {
   "codemirror_mode": {
    "name": "ipython",
    "version": 3
   },
   "file_extension": ".py",
   "mimetype": "text/x-python",
   "name": "python",
   "nbconvert_exporter": "python",
   "pygments_lexer": "ipython3",
   "version": "3.8.0"
  },
  "orig_nbformat": 4
 },
 "nbformat": 4,
 "nbformat_minor": 2
}
